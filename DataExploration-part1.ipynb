{
 "cells": [
  {
   "cell_type": "code",
   "execution_count": null,
   "metadata": {},
   "outputs": [],
   "source": [
    "import pandas as pd\n",
    "import matplotlib.pyplot as plt\n",
    "import seaborn as sns"
   ]
  },
  {
   "cell_type": "markdown",
   "metadata": {},
   "source": [
    "## Descriptive Statistical Analysis: Demographic Factors (from dataset1.csv)"
   ]
  },
  {
   "cell_type": "code",
   "execution_count": null,
   "metadata": {},
   "outputs": [],
   "source": [
    "dataset1 = pd.read_csv('dataset1.csv')\n",
    "\n",
    "# Gender distribution\n",
    "gender_counts = dataset1['gender'].value_counts(normalize=True) * 100\n",
    "gender_labels = ['Male', 'Female']\n",
    "plt.pie(gender_counts, labels=gender_labels, autopct='%1.1f%%', colors=['skyblue', 'lightgreen'])\n",
    "plt.title('Gender Distribution')\n",
    "plt.show()\n",
    "\n",
    "# Minority distribution\n",
    "minority_counts = dataset1['minority'].value_counts(normalize=True) * 100\n",
    "minority_labels = ['Majority', 'Minority']\n",
    "plt.pie(minority_counts, labels=minority_labels, autopct='%1.1f%%', colors=['lightcoral', 'yellowgreen'])\n",
    "plt.title('Minority Status Distribution')\n",
    "plt.show()\n",
    "\n",
    "# Deprivation status\n",
    "deprivation_counts = dataset1['deprived'].value_counts(normalize=True) * 100\n",
    "deprivation_labels = ['Not Deprived', 'Deprived']\n",
    "plt.pie(deprivation_counts, labels=deprivation_labels, autopct='%1.1f%%', colors=['lightblue', 'pink'])\n",
    "plt.title('Deprivation Status Distribution')\n",
    "plt.show()\n",
    "\n",
    "# Insights can also be displayed with bar charts for a clearer view\n",
    "sns.barplot(x=gender_labels, y=gender_counts)\n",
    "plt.title('Gender Distribution')\n",
    "plt.show()"
   ]
  }
 ],
 "metadata": {
  "language_info": {
   "name": "python"
  }
 },
 "nbformat": 4,
 "nbformat_minor": 2
}
