{
 "cells": [
  {
   "cell_type": "code",
   "execution_count": 5,
   "metadata": {},
   "outputs": [],
   "source": [
    "import pandas as pd\n",
    "import matplotlib.pyplot as plt \n",
    "import seaborn as sns\n",
    "from scipy import stats"
   ]
  },
  {
   "cell_type": "markdown",
   "metadata": {},
   "source": [
    "### import datasets"
   ]
  },
  {
   "cell_type": "code",
   "execution_count": 6,
   "metadata": {},
   "outputs": [],
   "source": [
    "dataset1 = pd.read_csv('dataset1.csv')\n",
    "dataset3 = pd.read_csv('dataset3.csv')"
   ]
  },
  {
   "cell_type": "code",
   "execution_count": 7,
   "metadata": {},
   "outputs": [
    {
     "name": "stdout",
     "output_type": "stream",
     "text": [
      "Optm: t-statistic = -2.4345, p-value = 0.0149\n",
      "Usef: t-statistic = -4.2629, p-value = 0.0000\n",
      "Relx: t-statistic = 0.7520, p-value = 0.4520\n",
      "Cheer: t-statistic = -9.7973, p-value = 0.0000\n"
     ]
    }
   ],
   "source": [
    "\n",
    "# Merge dataset1 and dataset3 on 'ID'\n",
    "merged_data = pd.merge(dataset1, dataset3, on='ID')\n",
    "\n",
    "# Split the data into deprived and non-deprived groups\n",
    "deprived_group = merged_data[merged_data['deprived'] == 1]\n",
    "non_deprived_group = merged_data[merged_data['deprived'] == 0]\n",
    "\n",
    "# Well-being variables to test\n",
    "well_being_columns = ['Optm', 'Usef', 'Relx', 'Cheer']\n",
    "\n",
    "# Perform t-tests for each well-being variable\n",
    "for col in well_being_columns:\n",
    "    t_stat, p_val = stats.ttest_ind(deprived_group[col], non_deprived_group[col], nan_policy='omit')\n",
    "    print(f'{col}: t-statistic = {t_stat:.4f}, p-value = {p_val:.4f}')\n"
   ]
  },
  {
   "cell_type": "code",
   "execution_count": null,
   "metadata": {},
   "outputs": [],
   "source": []
  }
 ],
 "metadata": {
  "kernelspec": {
   "display_name": "Python 3",
   "language": "python",
   "name": "python3"
  },
  "language_info": {
   "codemirror_mode": {
    "name": "ipython",
    "version": 3
   },
   "file_extension": ".py",
   "mimetype": "text/x-python",
   "name": "python",
   "nbconvert_exporter": "python",
   "pygments_lexer": "ipython3",
   "version": "3.11.5"
  }
 },
 "nbformat": 4,
 "nbformat_minor": 2
}
