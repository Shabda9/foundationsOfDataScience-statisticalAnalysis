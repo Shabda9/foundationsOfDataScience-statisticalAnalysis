{
 "cells": [
  {
   "cell_type": "code",
   "execution_count": 3,
   "metadata": {},
   "outputs": [],
   "source": [
    "import pandas as pd\n",
    "import numpy as np\n",
    "import matplotlib.pyplot as plt\n",
    "from scipy import stats"
   ]
  },
  {
   "cell_type": "code",
   "execution_count": 4,
   "metadata": {},
   "outputs": [],
   "source": [
    "dataset1 = pd.read_csv('../dataset1.csv')\n",
    "dataset2 = pd.read_csv('../dataset2.csv')\n",
    "dataset3 = pd.read_csv('../dataset3.csv')"
   ]
  },
  {
   "cell_type": "code",
   "execution_count": 5,
   "metadata": {},
   "outputs": [],
   "source": [
    "def inferential_analysis_1(data):\n",
    "    \"\"\"\n",
    "    Investigation 3: Perform a t-test to compare means of two groups\n",
    "    \"\"\"\n",
    "    print(\"Inferential Analysis 1: Two-Sample T-Test\")\n",
    "    numeric_cols = data.select_dtypes(include=[np.number]).columns\n",
    "    categoric_cols = data.select_dtypes(include=['object']).columns\n",
    "    \n",
    "    if len(numeric_cols) == 0 or len(categoric_cols) == 0:\n",
    "        print(\"Not enough suitable columns for t-test\")\n",
    "        return\n",
    "    \n",
    "    numeric_col = numeric_cols[0]  # Choose first numeric column\n",
    "    categoric_col = categoric_cols[0]  # Choose first categorical column\n",
    "    \n",
    "    groups = data[categoric_col].unique()\n",
    "    if len(groups) < 2:\n",
    "        print(\"Not enough groups for comparison\")\n",
    "        return\n",
    "    \n",
    "    group1 = data[data[categoric_col] == groups[0]][numeric_col]\n",
    "    group2 = data[data[categoric_col] == groups[1]][numeric_col]\n",
    "    \n",
    "    t_stat, p_value = stats.ttest_ind(group1, group2)\n",
    "    print(f\"T-statistic: {t_stat}, p-value: {p_value}\")\n"
   ]
  },
  {
   "cell_type": "code",
   "execution_count": 6,
   "metadata": {},
   "outputs": [
    {
     "name": "stdout",
     "output_type": "stream",
     "text": [
      "\n",
      "Analyzing Dataset 1\n",
      "Inferential Analysis 1: Two-Sample T-Test\n",
      "Not enough suitable columns for t-test\n",
      "\n",
      "Analyzing Dataset 2\n",
      "Inferential Analysis 1: Two-Sample T-Test\n",
      "Not enough suitable columns for t-test\n",
      "\n",
      "Analyzing Dataset 3\n",
      "Inferential Analysis 1: Two-Sample T-Test\n",
      "Not enough suitable columns for t-test\n"
     ]
    }
   ],
   "source": [
    "for i, dataset in enumerate([dataset1, dataset2, dataset3], 1):\n",
    "    print(f\"\\nAnalyzing Dataset {i}\")\n",
    "    inferential_analysis_1(dataset)\n"
   ]
  },
  {
   "cell_type": "code",
   "execution_count": null,
   "metadata": {},
   "outputs": [],
   "source": []
  }
 ],
 "metadata": {
  "kernelspec": {
   "display_name": "base",
   "language": "python",
   "name": "python3"
  },
  "language_info": {
   "codemirror_mode": {
    "name": "ipython",
    "version": 3
   },
   "file_extension": ".py",
   "mimetype": "text/x-python",
   "name": "python",
   "nbconvert_exporter": "python",
   "pygments_lexer": "ipython3",
   "version": "3.11.5"
  }
 },
 "nbformat": 4,
 "nbformat_minor": 2
}
